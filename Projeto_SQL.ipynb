{
  "nbformat": 4,
  "nbformat_minor": 0,
  "metadata": {
    "interpreter": {
      "hash": "167c1561c174e91518859240caf65cbf556e74a4dcd18fddf53afddc95ecd2f9"
    },
    "kernelspec": {
      "display_name": "Python 3",
      "language": "python",
      "name": "python3"
    },
    "language_info": {
      "codemirror_mode": {
        "name": "ipython",
        "version": 3
      },
      "file_extension": ".py",
      "mimetype": "text/x-python",
      "name": "python",
      "nbconvert_exporter": "python",
      "pygments_lexer": "ipython3",
      "version": "3.8.10"
    },
    "colab": {
      "name": "Projeto SQL.ipynb",
      "provenance": [],
      "include_colab_link": true
    }
  },
  "cells": [
    {
      "cell_type": "markdown",
      "metadata": {
        "id": "view-in-github",
        "colab_type": "text"
      },
      "source": [
        "<a href=\"https://colab.research.google.com/github/davigm/An-lise-usando-SQL/blob/main/Projeto_SQL.ipynb\" target=\"_parent\"><img src=\"https://colab.research.google.com/assets/colab-badge.svg\" alt=\"Open In Colab\"/></a>"
      ]
    },
    {
      "cell_type": "markdown",
      "metadata": {
        "id": "xODX2kuj5YSL"
      },
      "source": [
        "Enquanto estudava SQL, procurei uma forma de praticar e fixar o que aprendi. As opções tradicionais sugeridas (DB Browser, por exemplo) não permite a execução do código de forma interativa tal qual fazemos no Jupyter Notebook.\n",
        "\n",
        "Na minha busca por melhores opções, encontrei este artigo https://towardsdatascience.com/have-a-sql-interview-coming-up-ace-it-using-google-colab-6d3c0ffb29dc que ensina como utilizar código SQL usando o Google Colab e consequentemente qualquer ambiente Python.\n",
        "\n",
        "A tabela utilizada pode ser encontrada em https://data.transportation.gov/Aviation/Consumer-Airfare-Report-Table-1-Top-1-000-Contiguo/4f3n-jbg2 e foi sugerida em um forum do site Codecademy (https://discuss.codecademy.com/t/data-science-independent-project-5-analyze-airfare-data/419949) como forma de aplicar o conteúdo aprendido no curso de SQL."
      ]
    },
    {
      "cell_type": "code",
      "metadata": {
        "id": "w-J-YnGC5UhW"
      },
      "source": [
        "import pandas as pd\n",
        "import sqlite3"
      ],
      "execution_count": 1,
      "outputs": []
    },
    {
      "cell_type": "markdown",
      "metadata": {
        "id": "2P2FNd2o5Uhe"
      },
      "source": [
        "## SQL Hepler Functions"
      ]
    },
    {
      "cell_type": "code",
      "metadata": {
        "id": "BID5rx4n5Uhg"
      },
      "source": [
        "def pd_to_sqlDB(input_df: pd.DataFrame,\n",
        "                table_name: str,\n",
        "                db_name: str = 'default.db') -> None:\n",
        "\n",
        "    '''Take a Pandas dataframe `input_df` and upload it to `table_name` SQLITE table\n",
        "\n",
        "    Args:\n",
        "        input_df (pd.DataFrame): Dataframe containing data to upload to SQLITE\n",
        "        table_name (str): Name of the SQLITE table to upload to\n",
        "        db_name (str, optional): Name of the SQLITE Database in which the table is created. \n",
        "                                 Defaults to 'default.db'.\n",
        "    '''\n",
        "\n",
        "    # Step 1: Setup local logging\n",
        "    import logging\n",
        "    logging.basicConfig(level=logging.INFO,\n",
        "                        format='%(asctime)s %(levelname)s: %(message)s',\n",
        "                        datefmt='%Y-%m-%d %H:%M:%S')\n",
        "\n",
        "    # Step 2: Find columns in the dataframe\n",
        "    cols = input_df.columns\n",
        "    cols_string = ','.join(cols)\n",
        "    val_wildcard_string = ','.join(['?'] * len(cols))\n",
        "\n",
        "    # Step 3: Connect to a DB file if it exists, else crete a new file\n",
        "    con = sqlite3.connect(db_name)\n",
        "    cur = con.cursor()\n",
        "    logging.info(f'SQL DB {db_name} created')\n",
        "\n",
        "    # Step 4: Create Table\n",
        "    sql_string = f\"\"\"CREATE TABLE {table_name} ({cols_string});\"\"\"\n",
        "    cur.execute(sql_string)\n",
        "    logging.info(f'SQL Table {table_name} created with {len(cols)} columns')\n",
        "\n",
        "    # Step 5: Upload the dataframe\n",
        "    rows_to_upload = input_df.to_dict(orient='split')['data']\n",
        "    sql_string = f\"\"\"INSERT INTO {table_name} ({cols_string}) VALUES ({val_wildcard_string});\"\"\"\n",
        "    cur.executemany(sql_string, rows_to_upload)\n",
        "    logging.info(f'{len(rows_to_upload)} rows uploaded to {table_name}')\n",
        "  \n",
        "    # Step 6: Commit the changes and close the connection\n",
        "    con.commit()\n",
        "    con.close()\n",
        "\n",
        "\n",
        "def sql_query_to_pd(sql_query_string: str, db_name: str ='default.db') -> pd.DataFrame:\n",
        "    '''Execute an SQL query and return the results as a pandas dataframe\n",
        "\n",
        "    Args:\n",
        "        sql_query_string (str): SQL query string to execute\n",
        "        db_name (str, optional): Name of the SQLITE Database to execute the query in.\n",
        "                                 Defaults to 'default.db'.\n",
        "\n",
        "    Returns:\n",
        "        pd.DataFrame: Results of the SQL query in a pandas dataframe\n",
        "    '''    \n",
        "    # Step 1: Connect to the SQL DB\n",
        "    con = sqlite3.connect(db_name)\n",
        "\n",
        "    # Step 2: Execute the SQL query\n",
        "    cursor = con.execute(sql_query_string)\n",
        "\n",
        "    # Step 3: Fetch the data and column names\n",
        "    result_data = cursor.fetchall()\n",
        "    cols = [description[0] for description in cursor.description]\n",
        "\n",
        "    # Step 4: Close the connection\n",
        "    con.close()\n",
        "\n",
        "    # Step 5: Return as a dataframe\n",
        "    return pd.DataFrame(result_data, columns=cols)"
      ],
      "execution_count": 2,
      "outputs": []
    },
    {
      "cell_type": "markdown",
      "metadata": {
        "id": "OCKAj-vs5Uhj"
      },
      "source": [
        "## Ler arquivo CSV"
      ]
    },
    {
      "cell_type": "code",
      "metadata": {
        "id": "72UCwCyp5Uhk",
        "colab": {
          "base_uri": "https://localhost:8080/"
        },
        "outputId": "70273d84-e733-4909-ab89-c7b70898b338"
      },
      "source": [
        "# Step 1: Read the csv file into a dataframe\n",
        "# Dataset from https://www.kaggle.com/gpreda/covid-world-vaccination-progress\n",
        "input_df = pd.read_csv('https://data.transportation.gov/api/views/4f3n-jbg2/rows.csv?accessType=DOWNLOAD')\n",
        " \n"
      ],
      "execution_count": 3,
      "outputs": [
        {
          "output_type": "stream",
          "name": "stderr",
          "text": [
            "/usr/local/lib/python3.7/dist-packages/IPython/core/interactiveshell.py:2718: DtypeWarning: Columns (16,17) have mixed types.Specify dtype option on import or set low_memory=False.\n",
            "  interactivity=interactivity, compiler=compiler, result=result)\n"
          ]
        }
      ]
    },
    {
      "cell_type": "code",
      "metadata": {
        "colab": {
          "base_uri": "https://localhost:8080/"
        },
        "id": "H22p4fgQJG8U",
        "outputId": "162b5cb5-1a4d-4de4-fa60-30919f47195c"
      },
      "source": [
        "input_df.shape"
      ],
      "execution_count": 4,
      "outputs": [
        {
          "output_type": "execute_result",
          "data": {
            "text/plain": [
              "(102030, 18)"
            ]
          },
          "metadata": {},
          "execution_count": 4
        }
      ]
    },
    {
      "cell_type": "markdown",
      "metadata": {
        "id": "B_HEx-XOPoHT"
      },
      "source": [
        "## Projeto: Analisar dados de tarifas aéreas\n",
        "A tabela que será utilizada nesta análise possui registros das 1000 maiores rotas aéreas dos Estados Unidos. A tabela lista o número de passageiros com viagens apenas de ida por dia, a distância sem escalas percorrida, entre outas informações.\n",
        "\n",
        "### Colunas do Dataset\n",
        "* Year - Ano do vôo\n",
        "* quarter - trimestre\n",
        "* citymarketid_1 - ID da cidade 1\n",
        "* citymarketid_2 - ID da cidade 2\n",
        "* city1 - cidade 1\n",
        "* city2 - cidade 2\n",
        "* nsmiles - distância entre as cidades (em radiano)\n",
        "* passengers - passageiros por dia\n",
        "* fare - tarifa\n",
        "* carrier_lg - Operadora com a maior participação de mercado\n",
        "* large_ms - Participação da operadora com a maior participação de mercado\n",
        "* fare_lg - Tarifa média para a transportadora com a maior participação de mercado\n",
        "* carrier_low - Transportadora com a tarifa mais baixa\n",
        "* lf_ms - Participação de mercado para a transportadora com a tarifa mais baixa\n",
        "* fare_low - Tarifa média para a transportadora com a tarifa mais baixa \n",
        "* table_1_flag - flag\n",
        "* Geocoded_City1 - coordenadas geográficas da cidade 1\n",
        "* Geocoded_City2 - coordenadas geográficas da cidade 2"
      ]
    },
    {
      "cell_type": "markdown",
      "metadata": {
        "id": "pzsXXueKGY5S"
      },
      "source": [
        "## Fazer upload do dataframe para a tabela SQL"
      ]
    },
    {
      "cell_type": "code",
      "metadata": {
        "colab": {
          "base_uri": "https://localhost:8080/"
        },
        "id": "LE_qSCrPGK1n",
        "outputId": "69e8f38f-20e0-4674-9cf1-38895ea760be"
      },
      "source": [
        "# Upload do dataframe para uma tabela SQL\n",
        "pd_to_sqlDB(input_df,\n",
        "            table_name='consumer_report',\n",
        "            db_name='default.db')\n"
      ],
      "execution_count": 5,
      "outputs": [
        {
          "output_type": "stream",
          "name": "stderr",
          "text": [
            "2021-11-23 10:40:10 INFO: SQL DB default.db created\n",
            "2021-11-23 10:40:10 INFO: SQL Table consumer_report created with 18 columns\n",
            "2021-11-23 10:40:12 INFO: 102030 rows uploaded to consumer_report\n"
          ]
        }
      ]
    },
    {
      "cell_type": "markdown",
      "metadata": {
        "id": "AG-ZKzL60OrF"
      },
      "source": [
        "## Análise\n",
        "### Qual o *range* de anos?"
      ]
    },
    {
      "cell_type": "code",
      "metadata": {
        "id": "cT28CCNj5Uhn",
        "colab": {
          "base_uri": "https://localhost:8080/",
          "height": 81
        },
        "outputId": "2a10eac6-978c-4824-812b-202bda3d568f"
      },
      "source": [
        "# Determinando o menor valor da coluna Year\n",
        "sql_query_string = \"\"\"\n",
        "    SELECT MIN(Year)\n",
        "    FROM consumer_report\n",
        "\"\"\"\n",
        " \n",
        "# Executa a consulta SQL\n",
        "result_df = sql_query_to_pd(sql_query_string, db_name='default.db')\n",
        "result_df"
      ],
      "execution_count": 6,
      "outputs": [
        {
          "output_type": "execute_result",
          "data": {
            "text/html": [
              "<div>\n",
              "<style scoped>\n",
              "    .dataframe tbody tr th:only-of-type {\n",
              "        vertical-align: middle;\n",
              "    }\n",
              "\n",
              "    .dataframe tbody tr th {\n",
              "        vertical-align: top;\n",
              "    }\n",
              "\n",
              "    .dataframe thead th {\n",
              "        text-align: right;\n",
              "    }\n",
              "</style>\n",
              "<table border=\"1\" class=\"dataframe\">\n",
              "  <thead>\n",
              "    <tr style=\"text-align: right;\">\n",
              "      <th></th>\n",
              "      <th>MIN(Year)</th>\n",
              "    </tr>\n",
              "  </thead>\n",
              "  <tbody>\n",
              "    <tr>\n",
              "      <th>0</th>\n",
              "      <td>1996</td>\n",
              "    </tr>\n",
              "  </tbody>\n",
              "</table>\n",
              "</div>"
            ],
            "text/plain": [
              "   MIN(Year)\n",
              "0       1996"
            ]
          },
          "metadata": {},
          "execution_count": 6
        }
      ]
    },
    {
      "cell_type": "code",
      "metadata": {
        "colab": {
          "base_uri": "https://localhost:8080/",
          "height": 81
        },
        "id": "sDYNCZjEYFn2",
        "outputId": "40ea24f6-1b7f-4e3a-a533-502da0f4d302"
      },
      "source": [
        "# Determinando o maior valor da coluna Year\n",
        "sql_query_string = \"\"\"\n",
        "    SELECT MAX(Year)\n",
        "    FROM consumer_report\n",
        "\"\"\"\n",
        " \n",
        "# Executa a consulta SQL\n",
        "result_df = sql_query_to_pd(sql_query_string, db_name='default.db')\n",
        "result_df"
      ],
      "execution_count": 7,
      "outputs": [
        {
          "output_type": "execute_result",
          "data": {
            "text/html": [
              "<div>\n",
              "<style scoped>\n",
              "    .dataframe tbody tr th:only-of-type {\n",
              "        vertical-align: middle;\n",
              "    }\n",
              "\n",
              "    .dataframe tbody tr th {\n",
              "        vertical-align: top;\n",
              "    }\n",
              "\n",
              "    .dataframe thead th {\n",
              "        text-align: right;\n",
              "    }\n",
              "</style>\n",
              "<table border=\"1\" class=\"dataframe\">\n",
              "  <thead>\n",
              "    <tr style=\"text-align: right;\">\n",
              "      <th></th>\n",
              "      <th>MAX(Year)</th>\n",
              "    </tr>\n",
              "  </thead>\n",
              "  <tbody>\n",
              "    <tr>\n",
              "      <th>0</th>\n",
              "      <td>2021</td>\n",
              "    </tr>\n",
              "  </tbody>\n",
              "</table>\n",
              "</div>"
            ],
            "text/plain": [
              "   MAX(Year)\n",
              "0       2021"
            ]
          },
          "metadata": {},
          "execution_count": 7
        }
      ]
    },
    {
      "cell_type": "markdown",
      "metadata": {
        "id": "x88NdknxyyiR"
      },
      "source": [
        "**O range da coluna Year é 2021-1996 = 25 anos**"
      ]
    },
    {
      "cell_type": "markdown",
      "metadata": {
        "id": "UiAge7DH0efA"
      },
      "source": [
        "### Quais são as distâncias de vôos mais curta e mais longas entre 2 cidades?"
      ]
    },
    {
      "cell_type": "code",
      "metadata": {
        "colab": {
          "base_uri": "https://localhost:8080/",
          "height": 81
        },
        "id": "ZI_1z8dB1Bs9",
        "outputId": "8c10c96a-ea85-4b0f-a4a7-603f09076b9a"
      },
      "source": [
        "# Determinando a menor distâcia entre duas cidades.\n",
        "sql_query_string = \"\"\"\n",
        "    SELECT city1,city2,MIN(nsmiles)\n",
        "    FROM consumer_report\n",
        "\"\"\"\n",
        " \n",
        "# Executa a consulta SQL\n",
        "result_df = sql_query_to_pd(sql_query_string, db_name='default.db')\n",
        "result_df"
      ],
      "execution_count": 8,
      "outputs": [
        {
          "output_type": "execute_result",
          "data": {
            "text/html": [
              "<div>\n",
              "<style scoped>\n",
              "    .dataframe tbody tr th:only-of-type {\n",
              "        vertical-align: middle;\n",
              "    }\n",
              "\n",
              "    .dataframe tbody tr th {\n",
              "        vertical-align: top;\n",
              "    }\n",
              "\n",
              "    .dataframe thead th {\n",
              "        text-align: right;\n",
              "    }\n",
              "</style>\n",
              "<table border=\"1\" class=\"dataframe\">\n",
              "  <thead>\n",
              "    <tr style=\"text-align: right;\">\n",
              "      <th></th>\n",
              "      <th>city1</th>\n",
              "      <th>city2</th>\n",
              "      <th>MIN(nsmiles)</th>\n",
              "    </tr>\n",
              "  </thead>\n",
              "  <tbody>\n",
              "    <tr>\n",
              "      <th>0</th>\n",
              "      <td>Los Angeles, CA (Metropolitan Area)</td>\n",
              "      <td>San Diego, CA</td>\n",
              "      <td>109</td>\n",
              "    </tr>\n",
              "  </tbody>\n",
              "</table>\n",
              "</div>"
            ],
            "text/plain": [
              "                                 city1          city2  MIN(nsmiles)\n",
              "0  Los Angeles, CA (Metropolitan Area)  San Diego, CA           109"
            ]
          },
          "metadata": {},
          "execution_count": 8
        }
      ]
    },
    {
      "cell_type": "code",
      "metadata": {
        "colab": {
          "base_uri": "https://localhost:8080/",
          "height": 81
        },
        "id": "mKkYDdfV1jX9",
        "outputId": "76568818-19f8-4d0e-9e91-225d4e4799b4"
      },
      "source": [
        "# Determinando a maior distâcia entre duas cidades.\n",
        "sql_query_string = \"\"\"\n",
        "    SELECT city1,city2,MAX(nsmiles)\n",
        "    FROM consumer_report\n",
        "\"\"\"\n",
        " \n",
        "# Executa a consulta SQL\n",
        "result_df = sql_query_to_pd(sql_query_string, db_name='default.db')\n",
        "result_df"
      ],
      "execution_count": 9,
      "outputs": [
        {
          "output_type": "execute_result",
          "data": {
            "text/html": [
              "<div>\n",
              "<style scoped>\n",
              "    .dataframe tbody tr th:only-of-type {\n",
              "        vertical-align: middle;\n",
              "    }\n",
              "\n",
              "    .dataframe tbody tr th {\n",
              "        vertical-align: top;\n",
              "    }\n",
              "\n",
              "    .dataframe thead th {\n",
              "        text-align: right;\n",
              "    }\n",
              "</style>\n",
              "<table border=\"1\" class=\"dataframe\">\n",
              "  <thead>\n",
              "    <tr style=\"text-align: right;\">\n",
              "      <th></th>\n",
              "      <th>city1</th>\n",
              "      <th>city2</th>\n",
              "      <th>MAX(nsmiles)</th>\n",
              "    </tr>\n",
              "  </thead>\n",
              "  <tbody>\n",
              "    <tr>\n",
              "      <th>0</th>\n",
              "      <td>Miami, FL (Metropolitan Area)</td>\n",
              "      <td>Seattle, WA</td>\n",
              "      <td>2724</td>\n",
              "    </tr>\n",
              "  </tbody>\n",
              "</table>\n",
              "</div>"
            ],
            "text/plain": [
              "                           city1        city2  MAX(nsmiles)\n",
              "0  Miami, FL (Metropolitan Area)  Seattle, WA          2724"
            ]
          },
          "metadata": {},
          "execution_count": 9
        }
      ]
    },
    {
      "cell_type": "markdown",
      "metadata": {
        "id": "_C4PR63G1v8o"
      },
      "source": [
        "### Quantas cidades distintas são representadas?\n",
        "\n",
        "\n"
      ]
    },
    {
      "cell_type": "code",
      "metadata": {
        "colab": {
          "base_uri": "https://localhost:8080/",
          "height": 424
        },
        "id": "vPQLdvQb2kh1",
        "outputId": "bc138827-adbe-457c-a38f-faf54eddb506"
      },
      "source": [
        "# Determinando o número de cidades distintas.\n",
        "sql_query_string = \"\"\"\n",
        "    SELECT city1\n",
        "    FROM consumer_report\n",
        "    UNION\n",
        "    SELECT city2\n",
        "    FROM consumer_report\n",
        "\"\"\"\n",
        " \n",
        "# Executa a consulta SQL\n",
        "result_df = sql_query_to_pd(sql_query_string, db_name='default.db')\n",
        "result_df"
      ],
      "execution_count": 10,
      "outputs": [
        {
          "output_type": "execute_result",
          "data": {
            "text/html": [
              "<div>\n",
              "<style scoped>\n",
              "    .dataframe tbody tr th:only-of-type {\n",
              "        vertical-align: middle;\n",
              "    }\n",
              "\n",
              "    .dataframe tbody tr th {\n",
              "        vertical-align: top;\n",
              "    }\n",
              "\n",
              "    .dataframe thead th {\n",
              "        text-align: right;\n",
              "    }\n",
              "</style>\n",
              "<table border=\"1\" class=\"dataframe\">\n",
              "  <thead>\n",
              "    <tr style=\"text-align: right;\">\n",
              "      <th></th>\n",
              "      <th>city1</th>\n",
              "    </tr>\n",
              "  </thead>\n",
              "  <tbody>\n",
              "    <tr>\n",
              "      <th>0</th>\n",
              "      <td>Albany, NY</td>\n",
              "    </tr>\n",
              "    <tr>\n",
              "      <th>1</th>\n",
              "      <td>Albuquerque, NM</td>\n",
              "    </tr>\n",
              "    <tr>\n",
              "      <th>2</th>\n",
              "      <td>Allentown/Bethlehem/Easton, PA</td>\n",
              "    </tr>\n",
              "    <tr>\n",
              "      <th>3</th>\n",
              "      <td>Amarillo, TX</td>\n",
              "    </tr>\n",
              "    <tr>\n",
              "      <th>4</th>\n",
              "      <td>Appleton, WI</td>\n",
              "    </tr>\n",
              "    <tr>\n",
              "      <th>...</th>\n",
              "      <td>...</td>\n",
              "    </tr>\n",
              "    <tr>\n",
              "      <th>170</th>\n",
              "      <td>Washington, DC (Metropolitan Area)</td>\n",
              "    </tr>\n",
              "    <tr>\n",
              "      <th>171</th>\n",
              "      <td>West Palm Beach/Palm Beach, FL</td>\n",
              "    </tr>\n",
              "    <tr>\n",
              "      <th>172</th>\n",
              "      <td>Wichita, KS</td>\n",
              "    </tr>\n",
              "    <tr>\n",
              "      <th>173</th>\n",
              "      <td>Wilmington, DE</td>\n",
              "    </tr>\n",
              "    <tr>\n",
              "      <th>174</th>\n",
              "      <td>Wilmington, NC</td>\n",
              "    </tr>\n",
              "  </tbody>\n",
              "</table>\n",
              "<p>175 rows × 1 columns</p>\n",
              "</div>"
            ],
            "text/plain": [
              "                                  city1\n",
              "0                            Albany, NY\n",
              "1                       Albuquerque, NM\n",
              "2        Allentown/Bethlehem/Easton, PA\n",
              "3                          Amarillo, TX\n",
              "4                          Appleton, WI\n",
              "..                                  ...\n",
              "170  Washington, DC (Metropolitan Area)\n",
              "171      West Palm Beach/Palm Beach, FL\n",
              "172                         Wichita, KS\n",
              "173                      Wilmington, DE\n",
              "174                      Wilmington, NC\n",
              "\n",
              "[175 rows x 1 columns]"
            ]
          },
          "metadata": {},
          "execution_count": 10
        }
      ]
    },
    {
      "cell_type": "markdown",
      "metadata": {
        "id": "FtgTpccm3HVv"
      },
      "source": [
        "**Existem 175 cidades distintas**"
      ]
    },
    {
      "cell_type": "markdown",
      "metadata": {
        "id": "u5H5jXlMiKy7"
      },
      "source": [
        "###Qual companhia aérea aparece com mais frequência como a transportadora com a tarifa mais baixa"
      ]
    },
    {
      "cell_type": "code",
      "metadata": {
        "colab": {
          "base_uri": "https://localhost:8080/",
          "height": 206
        },
        "id": "BBizZU4xqMG6",
        "outputId": "8ab79aa2-692f-4c64-b524-1352c8911feb"
      },
      "source": [
        "sql_query_string = \"\"\"\n",
        "    SELECT carrier_low, COUNT(carrier_low)\n",
        "    FROM consumer_report\n",
        "    GROUP BY carrier_low\n",
        "    ORDER BY COUNT(carrier_low) DESC\n",
        "    LIMIT 5;\n",
        "\"\"\"\n",
        " \n",
        "# Executa a consulta SQL\n",
        "result_df = sql_query_to_pd(sql_query_string, db_name='default.db')\n",
        "result_df"
      ],
      "execution_count": 11,
      "outputs": [
        {
          "output_type": "execute_result",
          "data": {
            "text/html": [
              "<div>\n",
              "<style scoped>\n",
              "    .dataframe tbody tr th:only-of-type {\n",
              "        vertical-align: middle;\n",
              "    }\n",
              "\n",
              "    .dataframe tbody tr th {\n",
              "        vertical-align: top;\n",
              "    }\n",
              "\n",
              "    .dataframe thead th {\n",
              "        text-align: right;\n",
              "    }\n",
              "</style>\n",
              "<table border=\"1\" class=\"dataframe\">\n",
              "  <thead>\n",
              "    <tr style=\"text-align: right;\">\n",
              "      <th></th>\n",
              "      <th>carrier_low</th>\n",
              "      <th>COUNT(carrier_low)</th>\n",
              "    </tr>\n",
              "  </thead>\n",
              "  <tbody>\n",
              "    <tr>\n",
              "      <th>0</th>\n",
              "      <td>WN</td>\n",
              "      <td>35144</td>\n",
              "    </tr>\n",
              "    <tr>\n",
              "      <th>1</th>\n",
              "      <td>DL</td>\n",
              "      <td>8803</td>\n",
              "    </tr>\n",
              "    <tr>\n",
              "      <th>2</th>\n",
              "      <td>AA</td>\n",
              "      <td>8283</td>\n",
              "    </tr>\n",
              "    <tr>\n",
              "      <th>3</th>\n",
              "      <td>US</td>\n",
              "      <td>6527</td>\n",
              "    </tr>\n",
              "    <tr>\n",
              "      <th>4</th>\n",
              "      <td>FL</td>\n",
              "      <td>5997</td>\n",
              "    </tr>\n",
              "  </tbody>\n",
              "</table>\n",
              "</div>"
            ],
            "text/plain": [
              "  carrier_low  COUNT(carrier_low)\n",
              "0          WN               35144\n",
              "1          DL                8803\n",
              "2          AA                8283\n",
              "3          US                6527\n",
              "4          FL                5997"
            ]
          },
          "metadata": {},
          "execution_count": 11
        }
      ]
    },
    {
      "cell_type": "markdown",
      "metadata": {
        "id": "MQOlIMu_0w6W"
      },
      "source": [
        "**A companhia que apresenta a menor tarifa com mais frequência é a WN, aparecendo 35144 vezes como a menor tarifa**"
      ]
    },
    {
      "cell_type": "markdown",
      "metadata": {
        "id": "jH5UGOhtr7tH"
      },
      "source": [
        "###Qual companhia aérea aparece com mais frequência como a companhia com a maior fatia de mercado."
      ]
    },
    {
      "cell_type": "code",
      "metadata": {
        "colab": {
          "base_uri": "https://localhost:8080/",
          "height": 206
        },
        "id": "OzupvRf_2Z-9",
        "outputId": "55a303a1-b896-4565-8723-764743969582"
      },
      "source": [
        "sql_query_string = \"\"\"\n",
        "    SELECT carrier_lg, COUNT(carrier_lg)\n",
        "    FROM consumer_report\n",
        "    GROUP BY carrier_lg\n",
        "    ORDER BY COUNT(carrier_lg) DESC\n",
        "    LIMIT 5;\n",
        "\"\"\"\n",
        " \n",
        "# Executa a consulta SQL\n",
        "result_df = sql_query_to_pd(sql_query_string, db_name='default.db')\n",
        "result_df"
      ],
      "execution_count": 12,
      "outputs": [
        {
          "output_type": "execute_result",
          "data": {
            "text/html": [
              "<div>\n",
              "<style scoped>\n",
              "    .dataframe tbody tr th:only-of-type {\n",
              "        vertical-align: middle;\n",
              "    }\n",
              "\n",
              "    .dataframe tbody tr th {\n",
              "        vertical-align: top;\n",
              "    }\n",
              "\n",
              "    .dataframe thead th {\n",
              "        text-align: right;\n",
              "    }\n",
              "</style>\n",
              "<table border=\"1\" class=\"dataframe\">\n",
              "  <thead>\n",
              "    <tr style=\"text-align: right;\">\n",
              "      <th></th>\n",
              "      <th>carrier_lg</th>\n",
              "      <th>COUNT(carrier_lg)</th>\n",
              "    </tr>\n",
              "  </thead>\n",
              "  <tbody>\n",
              "    <tr>\n",
              "      <th>0</th>\n",
              "      <td>WN</td>\n",
              "      <td>27381</td>\n",
              "    </tr>\n",
              "    <tr>\n",
              "      <th>1</th>\n",
              "      <td>DL</td>\n",
              "      <td>18128</td>\n",
              "    </tr>\n",
              "    <tr>\n",
              "      <th>2</th>\n",
              "      <td>AA</td>\n",
              "      <td>14163</td>\n",
              "    </tr>\n",
              "    <tr>\n",
              "      <th>3</th>\n",
              "      <td>UA</td>\n",
              "      <td>9259</td>\n",
              "    </tr>\n",
              "    <tr>\n",
              "      <th>4</th>\n",
              "      <td>US</td>\n",
              "      <td>8949</td>\n",
              "    </tr>\n",
              "  </tbody>\n",
              "</table>\n",
              "</div>"
            ],
            "text/plain": [
              "  carrier_lg  COUNT(carrier_lg)\n",
              "0         WN              27381\n",
              "1         DL              18128\n",
              "2         AA              14163\n",
              "3         UA               9259\n",
              "4         US               8949"
            ]
          },
          "metadata": {},
          "execution_count": 12
        }
      ]
    },
    {
      "cell_type": "markdown",
      "metadata": {
        "id": "xTUPpZz63PXl"
      },
      "source": [
        "**A companhia que apresenta a maior fatia de mercado com mais frequência é a WN, aparecendo 27381 vezes na tabela**"
      ]
    },
    {
      "cell_type": "markdown",
      "metadata": {
        "id": "1gpAPTrj3cIc"
      },
      "source": [
        "###Quantas ocorrências existem em que a transportadora com a maior participação de mercado não é a transportadora com a tarifa mais baixa? \n",
        "\n"
      ]
    },
    {
      "cell_type": "code",
      "metadata": {
        "colab": {
          "base_uri": "https://localhost:8080/",
          "height": 81
        },
        "id": "0LAYyUWAY0XN",
        "outputId": "e63541e0-41de-46a1-8f5c-476e4609ce15"
      },
      "source": [
        "sql_query_string = \"\"\"\n",
        "    SELECT COUNT(carrier_lg)\n",
        "    FROM consumer_report\n",
        "    WHERE carrier_low <> 'WN';\n",
        "\"\"\"\n",
        " \n",
        "# Executa a consulta SQL\n",
        "result_df = sql_query_to_pd(sql_query_string, db_name='default.db')\n",
        "result_df"
      ],
      "execution_count": 22,
      "outputs": [
        {
          "output_type": "execute_result",
          "data": {
            "text/html": [
              "<div>\n",
              "<style scoped>\n",
              "    .dataframe tbody tr th:only-of-type {\n",
              "        vertical-align: middle;\n",
              "    }\n",
              "\n",
              "    .dataframe tbody tr th {\n",
              "        vertical-align: top;\n",
              "    }\n",
              "\n",
              "    .dataframe thead th {\n",
              "        text-align: right;\n",
              "    }\n",
              "</style>\n",
              "<table border=\"1\" class=\"dataframe\">\n",
              "  <thead>\n",
              "    <tr style=\"text-align: right;\">\n",
              "      <th></th>\n",
              "      <th>COUNT(carrier_lg)</th>\n",
              "    </tr>\n",
              "  </thead>\n",
              "  <tbody>\n",
              "    <tr>\n",
              "      <th>0</th>\n",
              "      <td>66883</td>\n",
              "    </tr>\n",
              "  </tbody>\n",
              "</table>\n",
              "</div>"
            ],
            "text/plain": [
              "   COUNT(carrier_lg)\n",
              "0              66883"
            ]
          },
          "metadata": {},
          "execution_count": 22
        }
      ]
    },
    {
      "cell_type": "markdown",
      "metadata": {
        "id": "-zCh3wh9aI_7"
      },
      "source": [
        "**Existem 66883 ocorrências em que a transportadora com a maior participação de mercado não é a transportadora com a tarifa mais baixa**"
      ]
    },
    {
      "cell_type": "code",
      "metadata": {
        "colab": {
          "base_uri": "https://localhost:8080/",
          "height": 81
        },
        "id": "9KNrr0fZcdsU",
        "outputId": "b440e4b4-1891-4894-c6aa-42885a36cdd9"
      },
      "source": [
        "sql_query_string = \"\"\"\n",
        "    SELECT ROUND(AVG(fare_lg - fare_low), 2) AS 'Average Difference in Fare'\n",
        "    FROM consumer_report\n",
        "    WHERE carrier_low != carrier_lg;\n",
        "\"\"\"\n",
        " \n",
        "# Executa a consulta SQL\n",
        "result_df = sql_query_to_pd(sql_query_string, db_name='default.db')\n",
        "result_df"
      ],
      "execution_count": 24,
      "outputs": [
        {
          "output_type": "execute_result",
          "data": {
            "text/html": [
              "<div>\n",
              "<style scoped>\n",
              "    .dataframe tbody tr th:only-of-type {\n",
              "        vertical-align: middle;\n",
              "    }\n",
              "\n",
              "    .dataframe tbody tr th {\n",
              "        vertical-align: top;\n",
              "    }\n",
              "\n",
              "    .dataframe thead th {\n",
              "        text-align: right;\n",
              "    }\n",
              "</style>\n",
              "<table border=\"1\" class=\"dataframe\">\n",
              "  <thead>\n",
              "    <tr style=\"text-align: right;\">\n",
              "      <th></th>\n",
              "      <th>Average Difference in Fare</th>\n",
              "    </tr>\n",
              "  </thead>\n",
              "  <tbody>\n",
              "    <tr>\n",
              "      <th>0</th>\n",
              "      <td>51.06</td>\n",
              "    </tr>\n",
              "  </tbody>\n",
              "</table>\n",
              "</div>"
            ],
            "text/plain": [
              "   Average Difference in Fare\n",
              "0                       51.06"
            ]
          },
          "metadata": {},
          "execution_count": 24
        }
      ]
    },
    {
      "cell_type": "markdown",
      "metadata": {
        "id": "EY36KrUXdjcO"
      },
      "source": [
        "###Qual a mudança pecentual por vôo da média da taxa nos periodos: 2007 a 2017 e entre 1997 e 2017?"
      ]
    },
    {
      "cell_type": "code",
      "metadata": {
        "colab": {
          "base_uri": "https://localhost:8080/",
          "height": 424
        },
        "id": "NLUZ1tObdybV",
        "outputId": "ddd49825-ed31-4345-dfcc-1dd06523c296"
      },
      "source": [
        "sql_query_string = \"\"\"\n",
        "    SELECT fare_lg - fare_low AS 'Diferença da taxa(2007 a 2017)'\n",
        "    FROM consumer_report\n",
        "    WHERE Year BETWEEN 2007 AND 2017\n",
        "\"\"\"\n",
        " \n",
        "# Executa a consulta SQL\n",
        "result_df = sql_query_to_pd(sql_query_string, db_name='default.db')\n",
        "result_df"
      ],
      "execution_count": 27,
      "outputs": [
        {
          "output_type": "execute_result",
          "data": {
            "text/html": [
              "<div>\n",
              "<style scoped>\n",
              "    .dataframe tbody tr th:only-of-type {\n",
              "        vertical-align: middle;\n",
              "    }\n",
              "\n",
              "    .dataframe tbody tr th {\n",
              "        vertical-align: top;\n",
              "    }\n",
              "\n",
              "    .dataframe thead th {\n",
              "        text-align: right;\n",
              "    }\n",
              "</style>\n",
              "<table border=\"1\" class=\"dataframe\">\n",
              "  <thead>\n",
              "    <tr style=\"text-align: right;\">\n",
              "      <th></th>\n",
              "      <th>Diferença da taxa(2007 a 2017)</th>\n",
              "    </tr>\n",
              "  </thead>\n",
              "  <tbody>\n",
              "    <tr>\n",
              "      <th>0</th>\n",
              "      <td>0.00</td>\n",
              "    </tr>\n",
              "    <tr>\n",
              "      <th>1</th>\n",
              "      <td>32.60</td>\n",
              "    </tr>\n",
              "    <tr>\n",
              "      <th>2</th>\n",
              "      <td>43.53</td>\n",
              "    </tr>\n",
              "    <tr>\n",
              "      <th>3</th>\n",
              "      <td>97.36</td>\n",
              "    </tr>\n",
              "    <tr>\n",
              "      <th>4</th>\n",
              "      <td>92.90</td>\n",
              "    </tr>\n",
              "    <tr>\n",
              "      <th>...</th>\n",
              "      <td>...</td>\n",
              "    </tr>\n",
              "    <tr>\n",
              "      <th>44003</th>\n",
              "      <td>0.00</td>\n",
              "    </tr>\n",
              "    <tr>\n",
              "      <th>44004</th>\n",
              "      <td>0.00</td>\n",
              "    </tr>\n",
              "    <tr>\n",
              "      <th>44005</th>\n",
              "      <td>40.70</td>\n",
              "    </tr>\n",
              "    <tr>\n",
              "      <th>44006</th>\n",
              "      <td>62.66</td>\n",
              "    </tr>\n",
              "    <tr>\n",
              "      <th>44007</th>\n",
              "      <td>0.00</td>\n",
              "    </tr>\n",
              "  </tbody>\n",
              "</table>\n",
              "<p>44008 rows × 1 columns</p>\n",
              "</div>"
            ],
            "text/plain": [
              "       Diferença da taxa(2007 a 2017)\n",
              "0                                0.00\n",
              "1                               32.60\n",
              "2                               43.53\n",
              "3                               97.36\n",
              "4                               92.90\n",
              "...                               ...\n",
              "44003                            0.00\n",
              "44004                            0.00\n",
              "44005                           40.70\n",
              "44006                           62.66\n",
              "44007                            0.00\n",
              "\n",
              "[44008 rows x 1 columns]"
            ]
          },
          "metadata": {},
          "execution_count": 27
        }
      ]
    },
    {
      "cell_type": "code",
      "metadata": {
        "colab": {
          "base_uri": "https://localhost:8080/",
          "height": 424
        },
        "id": "R1Z6TErDe0Le",
        "outputId": "e0b31117-4875-40b1-82b1-a0d5fbac7754"
      },
      "source": [
        "sql_query_string = \"\"\"\n",
        "    SELECT fare_lg - fare_low AS 'Diferença da taxa(1997 a 2017)'\n",
        "    FROM consumer_report\n",
        "    WHERE Year BETWEEN 1997 AND 2017\n",
        "\"\"\"\n",
        " \n",
        "# Executa a consulta SQL\n",
        "result_df = sql_query_to_pd(sql_query_string, db_name='default.db')\n",
        "result_df"
      ],
      "execution_count": 29,
      "outputs": [
        {
          "output_type": "execute_result",
          "data": {
            "text/html": [
              "<div>\n",
              "<style scoped>\n",
              "    .dataframe tbody tr th:only-of-type {\n",
              "        vertical-align: middle;\n",
              "    }\n",
              "\n",
              "    .dataframe tbody tr th {\n",
              "        vertical-align: top;\n",
              "    }\n",
              "\n",
              "    .dataframe thead th {\n",
              "        text-align: right;\n",
              "    }\n",
              "</style>\n",
              "<table border=\"1\" class=\"dataframe\">\n",
              "  <thead>\n",
              "    <tr style=\"text-align: right;\">\n",
              "      <th></th>\n",
              "      <th>Diferença da taxa(1997 a 2017)</th>\n",
              "    </tr>\n",
              "  </thead>\n",
              "  <tbody>\n",
              "    <tr>\n",
              "      <th>0</th>\n",
              "      <td>0.00</td>\n",
              "    </tr>\n",
              "    <tr>\n",
              "      <th>1</th>\n",
              "      <td>67.83</td>\n",
              "    </tr>\n",
              "    <tr>\n",
              "      <th>2</th>\n",
              "      <td>32.60</td>\n",
              "    </tr>\n",
              "    <tr>\n",
              "      <th>3</th>\n",
              "      <td>68.03</td>\n",
              "    </tr>\n",
              "    <tr>\n",
              "      <th>4</th>\n",
              "      <td>43.53</td>\n",
              "    </tr>\n",
              "    <tr>\n",
              "      <th>...</th>\n",
              "      <td>...</td>\n",
              "    </tr>\n",
              "    <tr>\n",
              "      <th>84012</th>\n",
              "      <td>0.00</td>\n",
              "    </tr>\n",
              "    <tr>\n",
              "      <th>84013</th>\n",
              "      <td>0.00</td>\n",
              "    </tr>\n",
              "    <tr>\n",
              "      <th>84014</th>\n",
              "      <td>40.70</td>\n",
              "    </tr>\n",
              "    <tr>\n",
              "      <th>84015</th>\n",
              "      <td>62.66</td>\n",
              "    </tr>\n",
              "    <tr>\n",
              "      <th>84016</th>\n",
              "      <td>0.00</td>\n",
              "    </tr>\n",
              "  </tbody>\n",
              "</table>\n",
              "<p>84017 rows × 1 columns</p>\n",
              "</div>"
            ],
            "text/plain": [
              "       Diferença da taxa(1997 a 2017)\n",
              "0                                0.00\n",
              "1                               67.83\n",
              "2                               32.60\n",
              "3                               68.03\n",
              "4                               43.53\n",
              "...                               ...\n",
              "84012                            0.00\n",
              "84013                            0.00\n",
              "84014                           40.70\n",
              "84015                           62.66\n",
              "84016                            0.00\n",
              "\n",
              "[84017 rows x 1 columns]"
            ]
          },
          "metadata": {},
          "execution_count": 29
        }
      ]
    },
    {
      "cell_type": "code",
      "metadata": {
        "id": "czj2bTcKe7e4"
      },
      "source": [
        ""
      ],
      "execution_count": null,
      "outputs": []
    }
  ]
}